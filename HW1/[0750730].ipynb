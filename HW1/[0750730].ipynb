{
 "cells": [
  {
   "cell_type": "code",
   "execution_count": 2,
   "metadata": {},
   "outputs": [],
   "source": [
    "import pandas as pd\n",
    "chipo = pd.read_csv('chipotle.tsv', sep='\\t')\n",
    "# chipo.head(10)"
   ]
  },
  {
   "cell_type": "code",
   "execution_count": 3,
   "metadata": {},
   "outputs": [
    {
     "name": "stdout",
     "output_type": "stream",
     "text": [
      "most-ordered item:\n",
      "Chicken Bowl\n"
     ]
    }
   ],
   "source": [
    "# 1. Which was the most-ordered item?\n",
    "item_counts = chipo['item_name'].value_counts()\n",
    "most_ordered_item = item_counts.idxmax()\n",
    "print('most-ordered item:')\n",
    "print(most_ordered_item)"
   ]
  },
  {
   "cell_type": "code",
   "execution_count": 4,
   "metadata": {},
   "outputs": [
    {
     "name": "stdout",
     "output_type": "stream",
     "text": [
      "most ordered item in the choice_description:\n",
      "Rice\n"
     ]
    }
   ],
   "source": [
    "# 2. What was the most ordered item in the choice_description column?\n",
    "import re\n",
    "choice_frame = chipo['choice_description'].dropna().replace(r'[\\[\\]]', r'', regex=True)\n",
    "choice_dict = {}\n",
    "for i in range(len(choice_frame)):\n",
    "    for choice in choice_frame.iloc[i].split(', '):\n",
    "        if str(choice) in choice_dict:\n",
    "            choice_dict[str(choice)] += 1\n",
    "        else:\n",
    "            choice_dict[str(choice)] = 1\n",
    "# print(choice_dict)\n",
    "v = list(choice_dict.values())\n",
    "k = list(choice_dict.keys())\n",
    "most_ordered_choice = k[v.index(max(v))]\n",
    "print('most ordered item in the choice_description:')\n",
    "print(most_ordered_choice)"
   ]
  },
  {
   "cell_type": "code",
   "execution_count": 5,
   "metadata": {},
   "outputs": [
    {
     "name": "stdout",
     "output_type": "stream",
     "text": [
      "revenue for the period:\n",
      "34500.16000000046\n"
     ]
    }
   ],
   "source": [
    "# 3. How much was the revenue for the period in the dataset?\n",
    "price_frame = chipo['item_price'].replace(r'\\$', r'', regex=True).astype(float)\n",
    "# total_revenue = sum(chipo['quantity']*price_frame)\n",
    "total_revenue = sum(price_frame)\n",
    "print('revenue for the period:')\n",
    "print(total_revenue)"
   ]
  },
  {
   "cell_type": "code",
   "execution_count": 6,
   "metadata": {},
   "outputs": [
    {
     "name": "stdout",
     "output_type": "stream",
     "text": [
      "average revenue amount per order:\n",
      "7.464335785374397\n"
     ]
    }
   ],
   "source": [
    "# 4. What is the average revenue amount per order?\n",
    "avg_revenue = sum(price_frame)/len(price_frame)\n",
    "print('average revenue amount per order:')\n",
    "print(avg_revenue)"
   ]
  },
  {
   "cell_type": "code",
   "execution_count": 8,
   "metadata": {},
   "outputs": [
    {
     "data": {
      "image/png": "[encoded data removed]",
      "text/plain": [
       "<matplotlib.figure.Figure at 0x20b93b438d0>"
      ]
     },
     "metadata": {
      "needs_background": "light"
     },
     "output_type": "display_data"
    }
   ],
   "source": [
    "# 5. Plot the revenue amount per 100 order\n",
    "import matplotlib.pyplot as plt\n",
    "revenue_per_100 = []\n",
    "for i in range(len(price_frame)):\n",
    "    if (int(i/100)+1) > len(revenue_per_100):\n",
    "        revenue_per_100.append(price_frame.iloc[i])\n",
    "    else:\n",
    "        revenue_per_100[int(i/100)] += price_frame.iloc[i]\n",
    "# print(revenue_per_100)\n",
    "fig, ax = plt.subplots(1, 2, figsize=(15, 8))\n",
    "ax[0].set_title('bar per 100 order')\n",
    "ax[0].bar(range(len(revenue_per_100)), revenue_per_100)\n",
    "ax[1].set_title('histogram per 100 order')\n",
    "ax[1].hist(revenue_per_100)\n",
    "plt.show()"
   ]
  },
  {
   "cell_type": "code",
   "execution_count": null,
   "metadata": {},
   "outputs": [],
   "source": []
  }
 ],
 "metadata": {
  "kernelspec": {
   "display_name": "Python 3",
   "language": "python",
   "name": "python3"
  },
  "language_info": {
   "codemirror_mode": {
    "name": "ipython",
    "version": 3
   },
   "file_extension": ".py",
   "mimetype": "text/x-python",
   "name": "python",
   "nbconvert_exporter": "python",
   "pygments_lexer": "ipython3",
   "version": "3.6.4"
  }
 },
 "nbformat": 4,
 "nbformat_minor": 2
}
