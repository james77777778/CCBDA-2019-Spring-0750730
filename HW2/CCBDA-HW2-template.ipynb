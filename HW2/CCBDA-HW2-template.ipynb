{
 "cells": [
  {
   "cell_type": "code",
   "execution_count": 1,
   "metadata": {},
   "outputs": [
    {
     "data": {
      "text/plain": [
       "\"\\ninput file name will be: dataset_1.csv, dataset_2.csv\\n\\nHere are an example input file parser:\\n\\ndb = []\\nwith open('dataset_1.csv', newline='') as csvfile:\\n    rows = csv.reader(csvfile)\\n\\n    for row in rows:\\n        db.append(row)\\n\\n\""
      ]
     },
     "execution_count": 1,
     "metadata": {},
     "output_type": "execute_result"
    }
   ],
   "source": [
    "'''\n",
    "input file name will be: dataset_1.csv, dataset_2.csv\n",
    "\n",
    "Here are an example input file parser:\n",
    "\n",
    "db = []\n",
    "with open('dataset_1.csv', newline='') as csvfile:\n",
    "    rows = csv.reader(csvfile)\n",
    "\n",
    "    for row in rows:\n",
    "        db.append(row)\n",
    "\n",
    "'''"
   ]
  },
  {
   "cell_type": "code",
   "execution_count": 2,
   "metadata": {},
   "outputs": [],
   "source": [
    "from prefixspan import prefixspan, dump_result, read_database"
   ]
  },
  {
   "cell_type": "code",
   "execution_count": 3,
   "metadata": {},
   "outputs": [],
   "source": [
    "# dataset_1\n",
    "# input file: dataset_1csv\n",
    "# output_file: output_1txt\n",
    "support = 2\n",
    "\n",
    "db = read_database('dataset_1.csv')\n",
    "\n",
    "result = []\n",
    "prefix = []\n",
    "prefixspan(db, support, prefix, result)\n",
    "\n",
    "dump_result(result, 'output_1.txt')"
   ]
  },
  {
   "cell_type": "code",
   "execution_count": 4,
   "metadata": {},
   "outputs": [],
   "source": [
    "# dataset_2\n",
    "# input file: dataset_2.csv\n",
    "# output_file: output_2.txt\n",
    "support = 2\n",
    "\n",
    "db = read_database('dataset_2.csv')\n",
    "\n",
    "result = []\n",
    "prefix = []\n",
    "prefixspan(db, support, prefix, result)\n",
    "\n",
    "dump_result(result, 'output_2.txt')"
   ]
  },
  {
   "cell_type": "code",
   "execution_count": 5,
   "metadata": {},
   "outputs": [],
   "source": [
    "# dataset_3\n",
    "# input file: dataset_3.csv\n",
    "# output_file: output_3.txt\n",
    "support = 2\n",
    "\n",
    "db = read_database('dataset_3.csv')\n",
    "\n",
    "result = []\n",
    "prefix = []\n",
    "prefixspan(db, support, prefix, result)\n",
    "\n",
    "dump_result(result, 'output_3.txt')"
   ]
  },
  {
   "cell_type": "code",
   "execution_count": 6,
   "metadata": {},
   "outputs": [],
   "source": [
    "# dataset_4\n",
    "# input file: dataset_4.csv\n",
    "# output_file: output_4.txt\n",
    "support = 3\n",
    "\n",
    "db = read_database('dataset_4.csv')\n",
    "\n",
    "result = []\n",
    "prefix = []\n",
    "prefixspan(db, support, prefix, result)\n",
    "\n",
    "dump_result(result, 'output_4.txt')"
   ]
  },
  {
   "cell_type": "code",
   "execution_count": 7,
   "metadata": {},
   "outputs": [],
   "source": [
    "# dataset_5\n",
    "# input file: dataset_5.csv\n",
    "# output_file: output_5.txt\n",
    "support = 4\n",
    "\n",
    "db = read_database('dataset_5.csv')\n",
    "\n",
    "result = []\n",
    "prefix = []\n",
    "prefixspan(db, support, prefix, result)\n",
    "\n",
    "dump_result(result, 'output_5.txt')"
   ]
  },
  {
   "cell_type": "code",
   "execution_count": 8,
   "metadata": {},
   "outputs": [],
   "source": [
    "# dataset_6\n",
    "# input file: dataset_6.csv\n",
    "# output_file: output_6.txt\n",
    "support = 4\n",
    "\n",
    "db = read_database('dataset_6.csv')\n",
    "\n",
    "result = []\n",
    "prefix = []\n",
    "prefixspan(db, support, prefix, result)\n",
    "\n",
    "dump_result(result, 'output_6.txt')"
   ]
  }
 ],
 "metadata": {
  "kernelspec": {
   "display_name": "Python 3",
   "language": "python",
   "name": "python3"
  },
  "language_info": {
   "codemirror_mode": {
    "name": "ipython",
    "version": 3
   },
   "file_extension": ".py",
   "mimetype": "text/x-python",
   "name": "python",
   "nbconvert_exporter": "python",
   "pygments_lexer": "ipython3",
   "version": "3.6.7"
  }
 },
 "nbformat": 4,
 "nbformat_minor": 2
}
